{
 "cells": [
  {
   "cell_type": "markdown",
   "metadata": {},
   "source": [
    "## Set-up"
   ]
  },
  {
   "cell_type": "code",
   "execution_count": 1,
   "metadata": {},
   "outputs": [],
   "source": [
    "from google.cloud import bigquery"
   ]
  },
  {
   "cell_type": "markdown",
   "metadata": {},
   "source": [
    "## Load data to GCS"
   ]
  },
  {
   "cell_type": "code",
   "execution_count": 2,
   "metadata": {},
   "outputs": [
    {
     "name": "stdout",
     "output_type": "stream",
     "text": [
      "gs://bq-ml-store/\n",
      "gs://default-credit-clients-2023/\n",
      "gs://terraform_state_bucket_bqml_sandbox_2023_09/\n"
     ]
    }
   ],
   "source": [
    "# List all buckets within the project\n",
    "!gcloud storage ls"
   ]
  },
  {
   "cell_type": "code",
   "execution_count": 4,
   "metadata": {},
   "outputs": [
    {
     "name": "stdout",
     "output_type": "stream",
     "text": [
      "Copying file://../data/default-of-credit-card-clients.csv [Content-Type=text/csv]...\n",
      "- [1 files][  2.8 MiB/  2.8 MiB]                                                \n",
      "Operation completed over 1 objects/2.8 MiB.                                      \n"
     ]
    }
   ],
   "source": [
    "# Copy data to the bucket\n",
    "!gsutil cp ../data/default-of-credit-card-clients.csv gs://default-credit-clients-2023"
   ]
  },
  {
   "cell_type": "markdown",
   "metadata": {},
   "source": [
    "## Load data to BiqQuery"
   ]
  },
  {
   "cell_type": "code",
   "execution_count": 4,
   "metadata": {},
   "outputs": [],
   "source": [
    "# Define Constans\n",
    "shell_output=!gcloud config list --format 'value(core.project)' 2>/dev/null # to supress any error messages\n",
    "PROJECT_ID = shell_output[0]\n",
    "\n",
    "LOCATION = \"EU\""
   ]
  },
  {
   "cell_type": "code",
   "execution_count": 5,
   "metadata": {},
   "outputs": [],
   "source": [
    "# Initialize BQ client\n",
    "bq_client = bigquery.Client(project=PROJECT_ID)"
   ]
  },
  {
   "cell_type": "code",
   "execution_count": 6,
   "metadata": {},
   "outputs": [],
   "source": [
    "# define schema\n",
    "schema = [\n",
    "    bigquery.SchemaField(\"ID\", \"INTEGER\",mode=\"REQUIRED\"),\n",
    "    bigquery.SchemaField(\"LIMIT_BAL\",\"INTEGER\",mode=\"NULLABLE\"),\n",
    "    bigquery.SchemaField(\"SEX\",\"STRING\",mode=\"NULLABLE\"),\n",
    "    bigquery.SchemaField(\"EDUCATION\",\"STRING\",mode=\"NULLABLE\"),\n",
    "    bigquery.SchemaField(\"MARRIAGE\",\"STRING\",mode=\"NULLABLE\"),\n",
    "    bigquery.SchemaField(\"AGE\",\"INTEGER\",mode=\"NULLABLE\"),\n",
    "\n",
    "    bigquery.SchemaField(\"PAY_0\",\"INTEGER\",mode=\"NULLABLE\"),\n",
    "    bigquery.SchemaField(\"PAY_2\",\"INTEGER\",mode=\"NULLABLE\"),\n",
    "    bigquery.SchemaField(\"PAY_3\",\"INTEGER\",mode=\"NULLABLE\"),\n",
    "    bigquery.SchemaField(\"PAY_4\",\"INTEGER\",mode=\"NULLABLE\"),\n",
    "    bigquery.SchemaField(\"PAY_5\",\"INTEGER\",mode=\"NULLABLE\"),\n",
    "    bigquery.SchemaField(\"PAY_6\",\"INTEGER\",mode=\"NULLABLE\"),\n",
    "    \n",
    "    bigquery.SchemaField(\"BILL_AMT1\",\"INTEGER\",mode=\"NULLABLE\"),\n",
    "    bigquery.SchemaField(\"BILL_AMT2\",\"INTEGER\",mode=\"NULLABLE\"),\n",
    "    bigquery.SchemaField(\"BILL_AMT3\",\"INTEGER\",mode=\"NULLABLE\"),\n",
    "    bigquery.SchemaField(\"BILL_AMT4\",\"INTEGER\",mode=\"NULLABLE\"),\n",
    "    bigquery.SchemaField(\"BILL_AMT5\",\"INTEGER\",mode=\"NULLABLE\"),\n",
    "    bigquery.SchemaField(\"BILL_AMT6\",\"INTEGER\",mode=\"NULLABLE\"),\n",
    "\n",
    "    bigquery.SchemaField(\"PAY_AMT1\",\"INTEGER\",mode=\"NULLABLE\"),\n",
    "    bigquery.SchemaField(\"PAY_AMT2\",\"INTEGER\",mode=\"NULLABLE\"),\n",
    "    bigquery.SchemaField(\"PAY_AMT3\",\"INTEGER\",mode=\"NULLABLE\"),\n",
    "    bigquery.SchemaField(\"PAY_AMT4\",\"INTEGER\",mode=\"NULLABLE\"),\n",
    "    bigquery.SchemaField(\"PAY_AMT5\",\"INTEGER\",mode=\"NULLABLE\"),\n",
    "    bigquery.SchemaField(\"PAY_AMT6\",\"INTEGER\",mode=\"NULLABLE\"),\n",
    "\n",
    "    bigquery.SchemaField(\"default_payment_next_month\",\"INTEGER\",mode=\"REQUIRED\")\n",
    "]"
   ]
  },
  {
   "cell_type": "code",
   "execution_count": 7,
   "metadata": {},
   "outputs": [
    {
     "name": "stdout",
     "output_type": "stream",
     "text": [
      "Created table bqml-sandbox-396011.BQ_ML_ID.CUSTOMER_DEFAULT_DATA\n"
     ]
    }
   ],
   "source": [
    "dataset = bigquery.Dataset(dataset_ref=\"bqml-sandbox-396011.BQ_ML_ID\")\n",
    "table_ref = dataset.table(\"CUSTOMER_DEFAULT_DATA\")\n",
    "table = bigquery.Table(table_ref=table_ref,\n",
    "                       schema=schema)\n",
    "table = bq_client.create_table(table)  # Make an API request.\n",
    "print(\n",
    "    \"Created table {}.{}.{}\".format(table.project, table.dataset_id, table.table_id)\n",
    ")"
   ]
  },
  {
   "cell_type": "code",
   "execution_count": 8,
   "metadata": {},
   "outputs": [
    {
     "data": {
      "text/plain": [
       "LoadJob<project=bqml-sandbox-396011, location=EU, id=f45b4db2-4e58-451f-98f3-89729d2d69a1>"
      ]
     },
     "execution_count": 8,
     "metadata": {},
     "output_type": "execute_result"
    }
   ],
   "source": [
    "# Load data to the table\n",
    "table_id = \"bqml-sandbox-396011.BQ_ML_ID.CUSTOMER_DEFAULT_DATA\"\n",
    "job_config = bigquery.LoadJobConfig(\n",
    "    schema = schema,\n",
    "    skip_leading_rows=1,\n",
    "    source_format=bigquery.SourceFormat.CSV,\n",
    "    field_delimiter=\";\",\n",
    "    write_disposition=\"WRITE_APPEND\"\n",
    ")\n",
    "\n",
    "uri = \"gs://default-credit-clients-2023/default-of-credit-card-clients.csv\"\n",
    "\n",
    "load_job = bq_client.load_table_from_uri(\n",
    "    uri, table_id, job_config=job_config\n",
    ")  # Make an API request.\n",
    "\n",
    "load_job.result()  # Waits for the job to complete."
   ]
  }
 ],
 "metadata": {
  "kernelspec": {
   "display_name": "Python 3",
   "language": "python",
   "name": "python3"
  },
  "language_info": {
   "codemirror_mode": {
    "name": "ipython",
    "version": 3
   },
   "file_extension": ".py",
   "mimetype": "text/x-python",
   "name": "python",
   "nbconvert_exporter": "python",
   "pygments_lexer": "ipython3",
   "version": "3.10.8"
  },
  "orig_nbformat": 4
 },
 "nbformat": 4,
 "nbformat_minor": 2
}
