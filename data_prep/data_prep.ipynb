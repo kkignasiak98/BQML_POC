{
 "cells": [
  {
   "cell_type": "markdown",
   "metadata": {},
   "source": [
    "## Set up"
   ]
  },
  {
   "cell_type": "code",
   "execution_count": 1,
   "metadata": {},
   "outputs": [],
   "source": [
    "from google.cloud import bigquery"
   ]
  },
  {
   "cell_type": "code",
   "execution_count": 2,
   "metadata": {},
   "outputs": [],
   "source": [
    "bq_client = bigquery.Client()\n",
    "dataset_id = 'bqml-sandbox-396011.BQ_ML_ID'"
   ]
  },
  {
   "cell_type": "code",
   "execution_count": 3,
   "metadata": {},
   "outputs": [],
   "source": [
    "%load_ext google.cloud.bigquery"
   ]
  },
  {
   "cell_type": "markdown",
   "metadata": {},
   "source": [
    "## Update data"
   ]
  },
  {
   "cell_type": "code",
   "execution_count": 4,
   "metadata": {},
   "outputs": [
    {
     "name": "stdout",
     "output_type": "stream",
     "text": [
      "Tables contained in 'bqml-sandbox-396011.BQ_ML_ID':\n",
      "bqml-sandbox-396011.BQ_ML_ID.CUSTOMER_DEFAULT_DATA\n"
     ]
    }
   ],
   "source": [
    "\n",
    "# List all tables in a dataset\n",
    "tables = bq_client.list_tables(dataset_id)  # Make an API request.\n",
    "\n",
    "print(\"Tables contained in '{}':\".format(dataset_id))\n",
    "for table in tables:\n",
    "    print(\"{}.{}.{}\".format(table.project, table.dataset_id, table.table_id))"
   ]
  },
  {
   "cell_type": "markdown",
   "metadata": {},
   "source": [
    "The target column name can be shortened <br>\n",
    "and the marriage column should not be used in the prediction."
   ]
  },
  {
   "cell_type": "code",
   "execution_count": 5,
   "metadata": {},
   "outputs": [],
   "source": [
    "alter_table_sql_query = \"\"\"\n",
    "    ALTER TABLE `bqml-sandbox-396011.BQ_ML_ID.CUSTOMER_DEFAULT_DATA`\n",
    "    RENAME COLUMN default_payment_next_month TO card_default;\n",
    "\n",
    "    ALTER TABLE `bqml-sandbox-396011.BQ_ML_ID.CUSTOMER_DEFAULT_DATA`\n",
    "    DROP COLUMN MARRIAGE;\n",
    "\"\"\""
   ]
  },
  {
   "cell_type": "code",
   "execution_count": 6,
   "metadata": {},
   "outputs": [
    {
     "data": {
      "text/plain": [
       "<google.cloud.bigquery.table._EmptyRowIterator at 0x7f6a05427e80>"
      ]
     },
     "execution_count": 6,
     "metadata": {},
     "output_type": "execute_result"
    }
   ],
   "source": [
    "alter_table_query_job = bq_client.query(alter_table_sql_query)\n",
    "\n",
    "alter_table_query_job.result()"
   ]
  },
  {
   "cell_type": "markdown",
   "metadata": {},
   "source": [
    "## Create a training data"
   ]
  },
  {
   "cell_type": "markdown",
   "metadata": {},
   "source": [
    "### Imbalanced data\n",
    "\n",
    "The data is heavily imbalanced which is a common problem with Machine Learning. <br>\n",
    "There many different ways to handle this problem <br>\n",
    "One of the easiest ways are:\n",
    "1. Resampling techniques,\n",
    "2. Ensemble methods like Random Forest or Gradient  Boosting\n",
    "\n",
    "The BigQuery ML does not have the function to perform oversampling or undersampling. <br>\n",
    "Instead, the operations can be performed outside of the BigQuery (for example in Python) <br>\n",
    "or create a procedure to perform this operations with help of Javascript https://cloud.google.com/bigquery/docs/user-defined-functions#supported-javascript-udf-data-types ,<br>\n",
    "or the simplified version of random undersampling can be performed as shown below."
   ]
  },
  {
   "cell_type": "code",
   "execution_count": 7,
   "metadata": {},
   "outputs": [],
   "source": [
    "create_training_data_query = \"\"\"\n",
    "CREATE OR REPLACE TABLE `bqml-sandbox-396011.BQ_ML_ID.CUSTOMER_DEFAULT_TRAINING_DATA`\n",
    "AS\n",
    "  (\n",
    "    WITH CTE AS (\n",
    "      SELECT *\n",
    "      FROM `bqml-sandbox-396011.BQ_ML_ID.CUSTOMER_DEFAULT_DATA`\n",
    "      WHERE card_default = 0\n",
    "      LIMIT 6000\n",
    "    )\n",
    "\n",
    "    SELECT * \n",
    "    FROM CTE\n",
    "\n",
    "    UNION ALL\n",
    "    SELECT *\n",
    "    FROM `bqml-sandbox-396011.BQ_ML_ID.CUSTOMER_DEFAULT_DATA`\n",
    "    WHERE card_default = 1\n",
    "  )\n",
    "\"\"\""
   ]
  },
  {
   "cell_type": "code",
   "execution_count": 8,
   "metadata": {},
   "outputs": [
    {
     "data": {
      "text/plain": [
       "<google.cloud.bigquery.table._EmptyRowIterator at 0x7f6a3bbbada0>"
      ]
     },
     "execution_count": 8,
     "metadata": {},
     "output_type": "execute_result"
    }
   ],
   "source": [
    "create_training_data_query_job = bq_client.query(create_training_data_query)\n",
    "\n",
    "create_training_data_query_job.result()"
   ]
  },
  {
   "cell_type": "markdown",
   "metadata": {},
   "source": [
    "## Update schema for one-hot-encoding"
   ]
  },
  {
   "cell_type": "markdown",
   "metadata": {},
   "source": [
    "### BigQuery ML automatic preprocessing\n",
    "\n",
    "BigQuery ML can handle feature processing automatically. The process consists of two steps:\n",
    "1. Missing value imputation,\n",
    "2. Feature transformation\n",
    "\n",
    "When it comes to imputation for example the NULLs in numeric columns are replaced with the mean value of a given column. <br>\n",
    "While during the feature transformation, the numeric columns are standardised and other simple data types like BOOL or STRING are one-hot encoded. <br>\n",
    "For most of the simple Machine Learning use cases, this type of automatic processing is quite sufficient. <br>\n",
    "\n",
    "However, it is also possible to perform manual preprocessing using BiqQuery ML capabilities.<br>\n",
    "Check out the documentation:\n",
    "1. https://cloud.google.com/bigquery/docs/auto-preprocessing\n",
    "2. https://cloud.google.com/bigquery/docs/manual-preprocessing"
   ]
  },
  {
   "cell_type": "code",
   "execution_count": 9,
   "metadata": {},
   "outputs": [],
   "source": [
    "# Cast selected columns as strings to enable one-hot-encoding\n",
    "update_schema_query = \"\"\"\n",
    "CREATE OR REPLACE TABLE `bqml-sandbox-396011.BQ_ML_ID.CUSTOMER_DEFAULT_TRAINING_DATA` AS\n",
    "SELECT \n",
    "      * EXCEPT(PAY_0,PAY_2,PAY_3,PAY_4,PAY_5, PAY_6),\n",
    "      CAST(PAY_0 AS STRING) AS PAY_0,\n",
    "      CAST(PAY_2 AS STRING) AS PAY_2,\n",
    "      CAST(PAY_3 AS STRING) AS PAY_3,\n",
    "      CAST(PAY_4 AS STRING) AS PAY_4,\n",
    "      CAST(PAY_5 AS STRING) AS PAY_5,\n",
    "      CAST(PAY_6 AS STRING) AS PAY_6\n",
    "\n",
    "FROM `bqml-sandbox-396011.BQ_ML_ID.CUSTOMER_DEFAULT_TRAINING_DATA`\n",
    "\"\"\""
   ]
  },
  {
   "cell_type": "code",
   "execution_count": 10,
   "metadata": {},
   "outputs": [
    {
     "data": {
      "text/plain": [
       "<google.cloud.bigquery.table._EmptyRowIterator at 0x7f6a05425e10>"
      ]
     },
     "execution_count": 10,
     "metadata": {},
     "output_type": "execute_result"
    }
   ],
   "source": [
    "update_schema_query_job = bq_client.query(update_schema_query)\n",
    "\n",
    "update_schema_query_job.result()"
   ]
  }
 ],
 "metadata": {
  "kernelspec": {
   "display_name": "Python 3",
   "language": "python",
   "name": "python3"
  },
  "language_info": {
   "codemirror_mode": {
    "name": "ipython",
    "version": 3
   },
   "file_extension": ".py",
   "mimetype": "text/x-python",
   "name": "python",
   "nbconvert_exporter": "python",
   "pygments_lexer": "ipython3",
   "version": "3.10.8"
  },
  "orig_nbformat": 4
 },
 "nbformat": 4,
 "nbformat_minor": 2
}
