{
 "cells": [
  {
   "cell_type": "markdown",
   "metadata": {},
   "source": [
    "## Set-up"
   ]
  },
  {
   "cell_type": "code",
   "execution_count": 9,
   "metadata": {},
   "outputs": [
    {
     "name": "stdout",
     "output_type": "stream",
     "text": [
      "Requirement already satisfied: pip in /opt/python/3.10.8/lib/python3.10/site-packages (23.1.2)\n",
      "Collecting pip\n",
      "  Downloading pip-23.2.1-py3-none-any.whl (2.1 MB)\n",
      "\u001b[2K     \u001b[90m━━━━━━━━━━━━━━━━━━━━━━━━━━━━━━━━━━━━━━━━\u001b[0m \u001b[32m2.1/2.1 MB\u001b[0m \u001b[31m29.3 MB/s\u001b[0m eta \u001b[36m0:00:00\u001b[0m00:01\u001b[0m\n",
      "\u001b[?25hInstalling collected packages: pip\n",
      "  Attempting uninstall: pip\n",
      "    Found existing installation: pip 23.1.2\n",
      "    Uninstalling pip-23.1.2:\n",
      "      Successfully uninstalled pip-23.1.2\n",
      "\u001b[33m  WARNING: The scripts pip, pip3 and pip3.10 are installed in '/opt/python/3.10.8/bin' which is not on PATH.\n",
      "  Consider adding this directory to PATH or, if you prefer to suppress this warning, use --no-warn-script-location.\u001b[0m\u001b[33m\n",
      "\u001b[0mSuccessfully installed pip-23.2.1\n"
     ]
    }
   ],
   "source": [
    "# Upgrade pip\n",
    "!pip install --upgrade pip"
   ]
  },
  {
   "cell_type": "code",
   "execution_count": 16,
   "metadata": {},
   "outputs": [
    {
     "name": "stdout",
     "output_type": "stream",
     "text": [
      "Requirement already satisfied: google-cloud-bigquery in /home/codespace/.local/lib/python3.10/site-packages (3.4.1)\n",
      "Requirement already satisfied: grpcio<2.0dev,>=1.47.0 in /home/codespace/.local/lib/python3.10/site-packages (from google-cloud-bigquery) (1.57.0)\n",
      "Requirement already satisfied: google-api-core[grpc]!=2.0.*,!=2.1.*,!=2.2.*,!=2.3.0,<3.0.0dev,>=1.31.5 in /home/codespace/.local/lib/python3.10/site-packages (from google-cloud-bigquery) (2.11.1)\n",
      "Requirement already satisfied: proto-plus<2.0.0dev,>=1.15.0 in /home/codespace/.local/lib/python3.10/site-packages (from google-cloud-bigquery) (1.22.3)\n",
      "Requirement already satisfied: google-cloud-core<3.0.0dev,>=1.4.1 in /home/codespace/.local/lib/python3.10/site-packages (from google-cloud-bigquery) (2.3.3)\n",
      "Requirement already satisfied: google-resumable-media<3.0dev,>=0.6.0 in /home/codespace/.local/lib/python3.10/site-packages (from google-cloud-bigquery) (2.5.0)\n",
      "Requirement already satisfied: packaging<22.0.0dev,>=14.3 in /home/codespace/.local/lib/python3.10/site-packages (from google-cloud-bigquery) (21.3)\n",
      "Requirement already satisfied: protobuf!=3.20.0,!=3.20.1,!=4.21.0,!=4.21.1,!=4.21.2,!=4.21.3,!=4.21.4,!=4.21.5,<5.0.0dev,>=3.19.5 in /opt/python/3.10.8/lib/python3.10/site-packages (from google-cloud-bigquery) (4.24.2)\n",
      "Requirement already satisfied: python-dateutil<3.0dev,>=2.7.2 in /home/codespace/.local/lib/python3.10/site-packages (from google-cloud-bigquery) (2.8.2)\n",
      "Requirement already satisfied: requests<3.0.0dev,>=2.21.0 in /home/codespace/.local/lib/python3.10/site-packages (from google-cloud-bigquery) (2.31.0)\n",
      "Requirement already satisfied: googleapis-common-protos<2.0.dev0,>=1.56.2 in /opt/python/3.10.8/lib/python3.10/site-packages (from google-api-core[grpc]!=2.0.*,!=2.1.*,!=2.2.*,!=2.3.0,<3.0.0dev,>=1.31.5->google-cloud-bigquery) (1.60.0)\n",
      "Requirement already satisfied: google-auth<3.0.dev0,>=2.14.1 in /home/codespace/.local/lib/python3.10/site-packages (from google-api-core[grpc]!=2.0.*,!=2.1.*,!=2.2.*,!=2.3.0,<3.0.0dev,>=1.31.5->google-cloud-bigquery) (2.22.0)\n",
      "Requirement already satisfied: grpcio-status<2.0.dev0,>=1.33.2 in /home/codespace/.local/lib/python3.10/site-packages (from google-api-core[grpc]!=2.0.*,!=2.1.*,!=2.2.*,!=2.3.0,<3.0.0dev,>=1.31.5->google-cloud-bigquery) (1.57.0)\n",
      "Requirement already satisfied: google-crc32c<2.0dev,>=1.0 in /home/codespace/.local/lib/python3.10/site-packages (from google-resumable-media<3.0dev,>=0.6.0->google-cloud-bigquery) (1.5.0)\n",
      "Requirement already satisfied: pyparsing!=3.0.5,>=2.0.2 in /home/codespace/.local/lib/python3.10/site-packages (from packaging<22.0.0dev,>=14.3->google-cloud-bigquery) (3.0.9)\n",
      "Requirement already satisfied: six>=1.5 in /home/codespace/.local/lib/python3.10/site-packages (from python-dateutil<3.0dev,>=2.7.2->google-cloud-bigquery) (1.16.0)\n",
      "Requirement already satisfied: charset-normalizer<4,>=2 in /home/codespace/.local/lib/python3.10/site-packages (from requests<3.0.0dev,>=2.21.0->google-cloud-bigquery) (3.1.0)\n",
      "Requirement already satisfied: idna<4,>=2.5 in /home/codespace/.local/lib/python3.10/site-packages (from requests<3.0.0dev,>=2.21.0->google-cloud-bigquery) (3.4)\n",
      "Requirement already satisfied: urllib3<3,>=1.21.1 in /home/codespace/.local/lib/python3.10/site-packages (from requests<3.0.0dev,>=2.21.0->google-cloud-bigquery) (1.26.16)\n",
      "Requirement already satisfied: certifi>=2017.4.17 in /home/codespace/.local/lib/python3.10/site-packages (from requests<3.0.0dev,>=2.21.0->google-cloud-bigquery) (2023.5.7)\n",
      "Requirement already satisfied: cachetools<6.0,>=2.0.0 in /home/codespace/.local/lib/python3.10/site-packages (from google-auth<3.0.dev0,>=2.14.1->google-api-core[grpc]!=2.0.*,!=2.1.*,!=2.2.*,!=2.3.0,<3.0.0dev,>=1.31.5->google-cloud-bigquery) (5.3.1)\n",
      "Requirement already satisfied: pyasn1-modules>=0.2.1 in /opt/python/3.10.8/lib/python3.10/site-packages (from google-auth<3.0.dev0,>=2.14.1->google-api-core[grpc]!=2.0.*,!=2.1.*,!=2.2.*,!=2.3.0,<3.0.0dev,>=1.31.5->google-cloud-bigquery) (0.3.0)\n",
      "Requirement already satisfied: rsa<5,>=3.1.4 in /opt/python/3.10.8/lib/python3.10/site-packages (from google-auth<3.0.dev0,>=2.14.1->google-api-core[grpc]!=2.0.*,!=2.1.*,!=2.2.*,!=2.3.0,<3.0.0dev,>=1.31.5->google-cloud-bigquery) (4.9)\n",
      "Requirement already satisfied: pyasn1<0.6.0,>=0.4.6 in /opt/python/3.10.8/lib/python3.10/site-packages (from pyasn1-modules>=0.2.1->google-auth<3.0.dev0,>=2.14.1->google-api-core[grpc]!=2.0.*,!=2.1.*,!=2.2.*,!=2.3.0,<3.0.0dev,>=1.31.5->google-cloud-bigquery) (0.5.0)\n"
     ]
    }
   ],
   "source": [
    "# Installing the latest version of the package\n",
    "!pip install --user google-cloud-bigquery==3.4.1\n",
    "!pip install --user pandas\n",
    "!pip install google-cloud-bigquery"
   ]
  },
  {
   "cell_type": "code",
   "execution_count": 1,
   "metadata": {},
   "outputs": [],
   "source": [
    "from google.cloud import bigquery"
   ]
  },
  {
   "cell_type": "markdown",
   "metadata": {},
   "source": [
    "## Load data to GCS"
   ]
  },
  {
   "cell_type": "code",
   "execution_count": 3,
   "metadata": {},
   "outputs": [
    {
     "name": "stdout",
     "output_type": "stream",
     "text": [
      "gs://default-credit-clients-2023/\n",
      "gs://terraform_state_bucket_bqml_sandbox_2023_09/\n"
     ]
    }
   ],
   "source": [
    "# List all buckets within project\n",
    "!gcloud storage ls"
   ]
  },
  {
   "cell_type": "code",
   "execution_count": 5,
   "metadata": {},
   "outputs": [
    {
     "name": "stdout",
     "output_type": "stream",
     "text": [
      "Copying file://default-of-credit-card-clients.csv [Content-Type=text/csv]...\n",
      "- [1 files][  2.8 MiB/  2.8 MiB]                                                \n",
      "Operation completed over 1 objects/2.8 MiB.                                      \n"
     ]
    }
   ],
   "source": [
    "!gsutil cp default-of-credit-card-clients.csv gs://default-credit-clients-2023"
   ]
  },
  {
   "cell_type": "markdown",
   "metadata": {},
   "source": [
    "## Load data to BiqQuery"
   ]
  },
  {
   "cell_type": "code",
   "execution_count": 2,
   "metadata": {},
   "outputs": [],
   "source": [
    "# Define Constans\n",
    "shell_output=!gcloud config list --format 'value(core.project)' 2>/dev/null # to supress any error messages\n",
    "PROJECT_ID = shell_output[0]\n",
    "\n",
    "LOCATION = \"EU\""
   ]
  },
  {
   "cell_type": "code",
   "execution_count": 4,
   "metadata": {},
   "outputs": [],
   "source": [
    "# Initialize BQ client\n",
    "bq_client = bigquery.Client(project=PROJECT_ID)"
   ]
  },
  {
   "cell_type": "code",
   "execution_count": 5,
   "metadata": {},
   "outputs": [],
   "source": [
    "# define schema\n",
    "schema = [\n",
    "    bigquery.SchemaField(\"ID\", \"INTEGER\",mode=\"REQUIRED\"),\n",
    "    bigquery.SchemaField(\"LIMIT_BAL\",\"INTEGER\",mode=\"NULLABLE\"),\n",
    "    bigquery.SchemaField(\"SEX\",\"STRING\",mode=\"NULLABLE\"),\n",
    "    bigquery.SchemaField(\"EDUCATION\",\"STRING\",mode=\"NULLABLE\"),\n",
    "    bigquery.SchemaField(\"MARRIAGE\",\"STRING\",mode=\"NULLABLE\"),\n",
    "    bigquery.SchemaField(\"AGE\",\"INTEGER\",mode=\"NULLABLE\"),\n",
    "    bigquery.SchemaField(\"PAY_0\",\"INTEGER\",mode=\"NULLABLE\"),\n",
    "    bigquery.SchemaField(\"PAY_2\",\"INTEGER\",mode=\"NULLABLE\"),\n",
    "    bigquery.SchemaField(\"PAY_3\",\"INTEGER\",mode=\"NULLABLE\"),\n",
    "    bigquery.SchemaField(\"PAY_4\",\"INTEGER\",mode=\"NULLABLE\"),\n",
    "    bigquery.SchemaField(\"PAY_5\",\"INTEGER\",mode=\"NULLABLE\"),\n",
    "    bigquery.SchemaField(\"PAY_6\",\"INTEGER\",mode=\"NULLABLE\"),\n",
    "    bigquery.SchemaField(\"BILL_AMT1\",\"INTEGER\",mode=\"NULLABLE\"),\n",
    "    bigquery.SchemaField(\"BILL_AMT2\",\"INTEGER\",mode=\"NULLABLE\"),\n",
    "    bigquery.SchemaField(\"BILL_AMT3\",\"INTEGER\",mode=\"NULLABLE\"),\n",
    "    bigquery.SchemaField(\"BILL_AMT4\",\"INTEGER\",mode=\"NULLABLE\"),\n",
    "    bigquery.SchemaField(\"BILL_AMT5\",\"INTEGER\",mode=\"NULLABLE\"),\n",
    "    bigquery.SchemaField(\"BILL_AMT6\",\"INTEGER\",mode=\"NULLABLE\"),\n",
    "\n",
    "    bigquery.SchemaField(\"PAY_AMT1\",\"INTEGER\",mode=\"NULLABLE\"),\n",
    "    bigquery.SchemaField(\"PAY_AMT2\",\"INTEGER\",mode=\"NULLABLE\"),\n",
    "    bigquery.SchemaField(\"PAY_AMT3\",\"INTEGER\",mode=\"NULLABLE\"),\n",
    "    bigquery.SchemaField(\"PAY_AMT4\",\"INTEGER\",mode=\"NULLABLE\"),\n",
    "    bigquery.SchemaField(\"PAY_AMT5\",\"INTEGER\",mode=\"NULLABLE\"),\n",
    "    bigquery.SchemaField(\"PAY_AMT6\",\"INTEGER\",mode=\"NULLABLE\"),\n",
    "    bigquery.SchemaField(\"default payment next month\",\"INTEGER\",mode=\"REQUIRED\")\n",
    "]"
   ]
  },
  {
   "cell_type": "code",
   "execution_count": 7,
   "metadata": {},
   "outputs": [
    {
     "name": "stdout",
     "output_type": "stream",
     "text": [
      "Created table bqml-sandbox-396011.BQ_ML_ID.CUSTOMER_DEFAULT_DATA\n"
     ]
    }
   ],
   "source": [
    "dataset = bigquery.Dataset(dataset_ref=\"bqml-sandbox-396011.BQ_ML_ID\")\n",
    "table_ref = dataset.table(\"CUSTOMER_DEFAULT_DATA\")\n",
    "table = bigquery.Table(table_ref=table_ref,\n",
    "                       schema=schema)\n",
    "table = bq_client.create_table(table)  # Make an API request.\n",
    "print(\n",
    "    \"Created table {}.{}.{}\".format(table.project, table.dataset_id, table.table_id)\n",
    ")"
   ]
  },
  {
   "cell_type": "code",
   "execution_count": 8,
   "metadata": {},
   "outputs": [
    {
     "data": {
      "text/plain": [
       "LoadJob<project=bqml-sandbox-396011, location=EU, id=38b4f3e0-ac74-40fd-9d94-00f05f6c5482>"
      ]
     },
     "execution_count": 8,
     "metadata": {},
     "output_type": "execute_result"
    }
   ],
   "source": [
    "table_id = \"bqml-sandbox-396011.BQ_ML_ID.CUSTOMER_DEFAULT_DATA\"\n",
    "job_config = bigquery.LoadJobConfig(\n",
    "    schema = schema,\n",
    "    skip_leading_rows=1,\n",
    "    source_format=bigquery.SourceFormat.CSV,\n",
    "    field_delimiter=\";\",\n",
    "    write_disposition=\"WRITE_APPEND\"\n",
    ")\n",
    "\n",
    "uri = \"gs://default-credit-clients-2023/default-of-credit-card-clients.csv\"\n",
    "\n",
    "load_job = bq_client.load_table_from_uri(\n",
    "    uri, table_id, job_config=job_config\n",
    ")  # Make an API request.\n",
    "\n",
    "load_job.result()  # Waits for the job to complete."
   ]
  }
 ],
 "metadata": {
  "kernelspec": {
   "display_name": "Python 3",
   "language": "python",
   "name": "python3"
  },
  "language_info": {
   "codemirror_mode": {
    "name": "ipython",
    "version": 3
   },
   "file_extension": ".py",
   "mimetype": "text/x-python",
   "name": "python",
   "nbconvert_exporter": "python",
   "pygments_lexer": "ipython3",
   "version": "3.10.8"
  },
  "orig_nbformat": 4
 },
 "nbformat": 4,
 "nbformat_minor": 2
}
